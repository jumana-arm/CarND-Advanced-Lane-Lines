{
 "cells": [
  {
   "cell_type": "code",
   "execution_count": 1,
   "metadata": {},
   "outputs": [],
   "source": [
    "import numpy as np\n",
    "import cv2\n",
    "import glob\n",
    "import matplotlib.pyplot as plt\n",
    "import matplotlib.image as mpimg\n",
    "import os\n",
    "import pickle\n",
    "%matplotlib inline"
   ]
  },
  {
   "cell_type": "markdown",
   "metadata": {},
   "source": [
    "### Calibrate Camera using the Input Calibration data"
   ]
  },
  {
   "cell_type": "code",
   "execution_count": 2,
   "metadata": {},
   "outputs": [],
   "source": [
    "# Specify the output directory to save image and create one if does not exist\n",
    "CALIB_IMAGES = \"./camera_cal/*.jpg\""
   ]
  },
  {
   "cell_type": "code",
   "execution_count": 3,
   "metadata": {},
   "outputs": [],
   "source": [
    "# Prepare object points\n",
    "nx = 6 # Number of inside corners in x\n",
    "ny = 9 # Number of inside corners in y\n",
    "nz = 3 # Number of channels\n",
    "\n",
    "from util import camera as camera\n",
    "cameraMatrix, distortionCoeffs = camera.calibrate_camera(CALIB_IMAGES, nx, ny, nz)"
   ]
  },
  {
   "cell_type": "markdown",
   "metadata": {},
   "source": [
    "### Class to Store Lane information every frame"
   ]
  },
  {
   "cell_type": "code",
   "execution_count": 4,
   "metadata": {},
   "outputs": [],
   "source": [
    "# Define a class to receive the characteristics of each line detection\n",
    "class Line():\n",
    "    def __init__(self, n):\n",
    "        # was the line detected in the last iteration?\n",
    "        self.detected = False \n",
    "        # Number of past frames to be remembered\n",
    "        self.n_frame = n\n",
    "        # x values of the last n fits of the line\n",
    "        self.recent_xfitted = [] \n",
    "        #average x values of the fitted line over the last n iterations\n",
    "        self.best_x = None     \n",
    "        #polynomial coefficients averaged over the last n iterations\n",
    "        self.best_fit_p = None  \n",
    "        #polynomial coefficients for the most recent fit\n",
    "        self.current_fit_p = []  \n",
    "        #radius of curvature of the line in some units\n",
    "        self.radius_of_curvature = None \n",
    "        #distance in meters of vehicle center from the line\n",
    "        self.line_base_pos = None \n",
    "        #difference in fit coefficients between last and new fits\n",
    "        self.diffs = np.array([0,0,0], dtype='float') \n",
    "        #x values for detected line pixels\n",
    "        self.allx = None  \n",
    "        #y values for detected line pixels\n",
    "        self.ally = None\n",
    "        \n",
    "    def update_lane_data(self, fit_p, fit_inds):\n",
    "        '''\n",
    "        Update the lane information of current frame.\n",
    "        '''\n",
    "        self.current_fit_p.append(fit_p)\n",
    "        if len(self.current_fit_p) > self.n_frame:\n",
    "            #Keep latest n_frames\n",
    "            self.current_fit_p = self.current_fit_p[len(self.current_fit_p)-self.n_frame:]\n",
    "        self.best_fit_p = np.average(self.current_fit_p, axis=0)\n",
    "    "
   ]
  },
  {
   "cell_type": "markdown",
   "metadata": {},
   "source": [
    "### Image Processing Pipeline"
   ]
  },
  {
   "cell_type": "code",
   "execution_count": null,
   "metadata": {},
   "outputs": [],
   "source": [
    "from util import image_process as ip\n",
    "def image_processing_pipeline(img):\n",
    "    '''\n",
    "    Pipeline for Image Traanformation steps involved in Lane detection\n",
    "    \n",
    "    :returns: warped image\n",
    "    '''\n",
    "    new_image = img.copy()\n",
    "    # Perform undistortion\n",
    "    undist = ip.undistort(new_image, cameraMatrix, distortionCoeffs)\n",
    "    # Perform Binary Thresholding\n",
    "    thresholded = ip.get_binary_thresholded_image(undist)\n",
    "    # Apply Perspective Transform\n",
    "    warped, M_inv = ip.apply_warp(thresholded)\n",
    "    return (warped, M_inv)"
   ]
  },
  {
   "cell_type": "markdown",
   "metadata": {},
   "source": [
    "### Lane Processing Pipeline"
   ]
  },
  {
   "cell_type": "code",
   "execution_count": 6,
   "metadata": {},
   "outputs": [],
   "source": [
    "from util import lane_detection as lane_det\n",
    "def lane_processing_pipeline(img):\n",
    "    '''\n",
    "    Pipeline for identifying lanes within a tranformed image using polyfit algorithms and from previous frame data in video.\n",
    "    '''\n",
    "    warped, Minv = image_processing_pipeline(img)\n",
    "\n",
    "    # If both left and right lines were detected last frame, use polyfit_using_prev_fit, otherwise use polyfit_sliding_window\n",
    "    if not left_lane.detected or not right_lane.detected:\n",
    "        left_fit_p, right_fit_p, left_lane_inds, right_lane_inds = lane_det.polyfit_sliding_window(warped)\n",
    "    else:\n",
    "        left_fit_p, right_fit_p, left_lane_inds, right_lane_inds = lane_det.polyfit_using_previous_fit(warped, left_lane.best_fit, right_lane.best_fit)\n",
    "    \n",
    "    # Update current lane status\n",
    "    left_lane.update_lane_data(left_fit_p, left_lane_inds)\n",
    "    right_lane.update_lane_data(right_fit_p, right_lane_inds)\n",
    "    \n",
    "     # draw the current best fit if it exists\n",
    "    if left_lane.best_fit_p is not None and right_lane.best_fit_p is not None:\n",
    "        img_out = lane_det.shade_lane_area(img, warped, left_lane.best_fit_p, right_lane.best_fit_p, Minv)\n",
    "        curve_rad = lane_det.measure_radius_of_curvature(warped, left_lane.best_fit_p, right_lane.best_fit_p, left_lane_inds, right_lane_inds)\n",
    "        center_offset = lane_det.measure_offset_from_center(warped, left_lane.best_fit_p, right_lane.best_fit_p)\n",
    "        img_out = lane_det.add_distance_text_to_image(img_out, curve_rad, center_offset)      \n",
    "    else:\n",
    "        img_out = img\n",
    "        \n",
    "    return img_out"
   ]
  },
  {
   "cell_type": "markdown",
   "metadata": {},
   "source": [
    "### Process Video"
   ]
  },
  {
   "cell_type": "code",
   "execution_count": 7,
   "metadata": {},
   "outputs": [
    {
     "name": "stdout",
     "output_type": "stream",
     "text": [
      "[MoviePy] >>>> Building video project_video_output.mp4\n",
      "[MoviePy] Writing video project_video_output.mp4\n"
     ]
    },
    {
     "name": "stderr",
     "output_type": "stream",
     "text": [
      "100%|█████████▉| 1260/1261 [04:13<00:00,  4.97it/s]\n"
     ]
    },
    {
     "name": "stdout",
     "output_type": "stream",
     "text": [
      "[MoviePy] Done.\n",
      "[MoviePy] >>>> Video ready: project_video_output.mp4 \n",
      "\n",
      "CPU times: user 12min 39s, sys: 20.3 s, total: 12min 59s\n",
      "Wall time: 4min 13s\n"
     ]
    }
   ],
   "source": [
    "from moviepy.editor import VideoFileClip\n",
    "# Create two Line objects for right and left lanes.\n",
    "# Number of frame chosen as 10 after trial and error\n",
    "left_lane = Line(10)\n",
    "right_lane = Line(10)\n",
    "video_output1 = 'project_video_output.mp4'\n",
    "video_input1 = VideoFileClip('project_video.mp4')#.subclip(22,26)\n",
    "processed_video = video_input1.fl_image(lane_processing_pipeline)\n",
    "%time processed_video.write_videofile(video_output1, audio=False)"
   ]
  },
  {
   "cell_type": "code",
   "execution_count": null,
   "metadata": {
    "scrolled": false
   },
   "outputs": [],
   "source": []
  },
  {
   "cell_type": "code",
   "execution_count": null,
   "metadata": {},
   "outputs": [],
   "source": []
  },
  {
   "cell_type": "code",
   "execution_count": null,
   "metadata": {},
   "outputs": [],
   "source": []
  }
 ],
 "metadata": {
  "kernelspec": {
   "display_name": "Python 3",
   "language": "python",
   "name": "python3"
  },
  "language_info": {
   "codemirror_mode": {
    "name": "ipython",
    "version": 3
   },
   "file_extension": ".py",
   "mimetype": "text/x-python",
   "name": "python",
   "nbconvert_exporter": "python",
   "pygments_lexer": "ipython3",
   "version": "3.5.2"
  },
  "widgets": {
   "state": {},
   "version": "1.1.2"
  }
 },
 "nbformat": 4,
 "nbformat_minor": 2
}
